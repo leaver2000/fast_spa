{
 "cells": [
  {
   "cell_type": "code",
   "execution_count": 3,
   "metadata": {},
   "outputs": [
    {
     "data": {
      "text/html": [
       "\n",
       "                <script type=\"application/javascript\" id=\"jupyter_black\">\n",
       "                (function() {\n",
       "                    if (window.IPython === undefined) {\n",
       "                        return\n",
       "                    }\n",
       "                    var msg = \"WARNING: it looks like you might have loaded \" +\n",
       "                        \"jupyter_black in a non-lab notebook with \" +\n",
       "                        \"`is_lab=True`. Please double check, and if \" +\n",
       "                        \"loading with `%load_ext` please review the README!\"\n",
       "                    console.log(msg)\n",
       "                    alert(msg)\n",
       "                })()\n",
       "                </script>\n",
       "                "
      ],
      "text/plain": [
       "<IPython.core.display.HTML object>"
      ]
     },
     "metadata": {},
     "output_type": "display_data"
    }
   ],
   "source": [
    "%load_ext jupyter_black\n",
    "import numpy as np\n",
    "import fast_spa"
   ]
  },
  {
   "cell_type": "code",
   "execution_count": 27,
   "metadata": {},
   "outputs": [
    {
     "name": "stdout",
     "output_type": "stream",
     "text": [
      "(0.6919865454588905, 0.6936370595104311)\n",
      "(0.771064991852426, 0.6919888767636747)\n"
     ]
    }
   ],
   "source": [
    "from fast_spa._core import get_time_components\n",
    "\n",
    "ZENITH_ANGLE = 0\n",
    "AZIMUTH_ANGLE = 1\n",
    "RIGHT_ASCENSION = 0\n",
    "DECLINATION = 1\n",
    "SIDEREAL_TIME = 2\n",
    "HORIZONAL_PARALAX = 3\n",
    "\n",
    "T = np.array([\"2019-06-21T12:00:00.000000000\"])\n",
    "E = Z = np.array(9000)  # altitude in meters\n",
    "Y = np.array([39.742476])\n",
    "X = np.array([-105.1786])\n",
    "P = 1013.25  # pressure in millibars\n",
    "# ------------------------\n",
    "tc = get_time_components(T).ravel()\n",
    "v = tc[SIDEREAL_TIME]  # ν:deg\n",
    "xi = np.radians(tc[HORIZONAL_PARALAX])  # ξ:rad\n",
    "delta = np.radians(tc[DECLINATION])  # δ:rad\n",
    "alpha = tc[RIGHT_ASCENSION]  # α:deg\n",
    "z, a = fast_spa.fast_spa(T, X, Y, Z).ravel()\n",
    "\n",
    "# ------------------------\n",
    "phi = np.radians(Y[0])  # φ:rad\n",
    "z += 90\n",
    "\n",
    "phi2u = lambda phi: np.arctan(0.99664719 * np.tan(phi))\n",
    "u2phi = lambda u: np.arctan(1.00336409 * np.tan(u))\n",
    "phi2x = lambda phi, u: np.cos(u) + E / 6378140 * np.cos(phi)\n",
    "x2phi = lambda x, u: np.arccos(x - E / 6378140 * np.cos(u))\n",
    "\n",
    "print(\n",
    "    (phi2u(phi), u2phi(phi2u(phi))),\n",
    "    (phi2x(phi, phi2u(phi)), x2phi(phi2x(phi, phi2u(phi)), phi2u(phi))),\n",
    "    sep=\"\\n\",\n",
    ")\n",
    "\n",
    "\n",
    "# z, a"
   ]
  }
 ],
 "metadata": {
  "kernelspec": {
   "display_name": ".venv",
   "language": "python",
   "name": "python3"
  },
  "language_info": {
   "codemirror_mode": {
    "name": "ipython",
    "version": 3
   },
   "file_extension": ".py",
   "mimetype": "text/x-python",
   "name": "python",
   "nbconvert_exporter": "python",
   "pygments_lexer": "ipython3",
   "version": "3.10.12"
  }
 },
 "nbformat": 4,
 "nbformat_minor": 2
}
