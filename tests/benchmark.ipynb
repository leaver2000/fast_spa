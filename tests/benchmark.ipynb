{
 "cells": [
  {
   "cell_type": "code",
   "execution_count": 1,
   "metadata": {},
   "outputs": [],
   "source": [
    "import numpy as np\n",
    "import fast_spa\n",
    "import slowspa\n",
    "import timeit\n",
    "\n",
    "# 200x200km area\n",
    "lats = np.linspace(30, 31, 100)\n",
    "lons = np.linspace(-80, -79, 100)\n",
    "lats, lons = np.meshgrid(lats, lons)"
   ]
  },
  {
   "cell_type": "code",
   "execution_count": 2,
   "metadata": {},
   "outputs": [
    {
     "name": "stdout",
     "output_type": "stream",
     "text": [
      "995 µs ± 7.75 µs per loop (mean ± std. dev. of 7 runs, 1,000 loops each)\n",
      "29.2 ms ± 547 µs per loop (mean ± std. dev. of 7 runs, 10 loops each)\n"
     ]
    }
   ],
   "source": [
    "lats = np.linspace(30, 31, 100)\n",
    "lons = np.linspace(-80, -79, 100)\n",
    "datetime_obj = (\n",
    "    np.arange(\"2023-01-01\", \"2023-01-02\", dtype=\"datetime64[h]\")\n",
    "    .astype(\"datetime64[ns]\")\n",
    "    .astype(str)\n",
    "    .tolist()\n",
    ")\n",
    "\n",
    "%timeit fast_spa.fast_spa(datetime_obj, lats, lons)\n",
    "%timeit slowspa.slow_spa(datetime_obj, lats, lons)"
   ]
  },
  {
   "cell_type": "code",
   "execution_count": 3,
   "metadata": {},
   "outputs": [
    {
     "name": "stdout",
     "output_type": "stream",
     "text": [
      "29.7 ms ± 492 µs per loop (mean ± std. dev. of 7 runs, 10 loops each)\n",
      "70.5 ms ± 858 µs per loop (mean ± std. dev. of 7 runs, 10 loops each)\n"
     ]
    }
   ],
   "source": [
    "lats = np.linspace(30, 31, 100)\n",
    "lons = np.linspace(-80, -79, 100)\n",
    "lats, lons = np.meshgrid(lats, lons)\n",
    "datetime_obj = (\n",
    "    np.arange(\"2023-01-01\", \"2023-01-02\", dtype=\"datetime64[h]\")\n",
    "    .astype(\"datetime64[ns]\")\n",
    "    .astype(str)\n",
    "    .tolist()\n",
    ")\n",
    "%timeit fast_spa.fast_spa(datetime_obj, lats, lons)\n",
    "%timeit slowspa.slow_spa(datetime_obj, lats, lons)"
   ]
  },
  {
   "cell_type": "code",
   "execution_count": 4,
   "metadata": {},
   "outputs": [
    {
     "name": "stdout",
     "output_type": "stream",
     "text": [
      "4.69 ms ± 108 µs per loop (mean ± std. dev. of 7 runs, 100 loops each)\n",
      "168 ms ± 2.31 ms per loop (mean ± std. dev. of 7 runs, 10 loops each)\n"
     ]
    }
   ],
   "source": [
    "lats = np.linspace(30, 31, 5)\n",
    "lons = np.linspace(-80, -79, 5)\n",
    "lats, lons = np.meshgrid(lats, lons)\n",
    "datetime_obj = (\n",
    "    np.arange(\"2023-01-01\", \"2023-01-07\", dtype=\"datetime64[h]\")\n",
    "    .astype(\"datetime64[ns]\")\n",
    "    .astype(str)\n",
    "    .tolist()\n",
    ")\n",
    "\n",
    "%timeit fast_spa.fast_spa(datetime_obj, lats, lons)\n",
    "%timeit slowspa.slow_spa(datetime_obj, lats, lons)"
   ]
  },
  {
   "cell_type": "code",
   "execution_count": 5,
   "metadata": {},
   "outputs": [
    {
     "name": "stdout",
     "output_type": "stream",
     "text": [
      "0.8480740489903837\n",
      "22.5 ms ± 241 µs per loop (mean ± std. dev. of 7 runs, 10 loops each)\n",
      "868 ms ± 19.1 ms per loop (mean ± std. dev. of 7 runs, 1 loop each)\n"
     ]
    }
   ],
   "source": [
    "lats = np.linspace(30, 31, 20)\n",
    "lons = np.linspace(-80, -79, 20)\n",
    "datetime_obj = (\n",
    "    np.arange(\"2023-01-01\", \"2023-02-01\", dtype=\"datetime64[h]\")\n",
    "    .astype(\"datetime64[ns]\")\n",
    "    .astype(str)\n",
    "    .tolist()\n",
    ")\n",
    "print(\n",
    "    timeit.timeit(lambda: slowspa.slow_spa(datetime_obj, lats, lons), number=1)\n",
    "    - timeit.timeit(lambda: fast_spa.fast_spa(datetime_obj, lats, lons), number=1) \n",
    ")\n",
    "\n",
    "%timeit fast_spa.fast_spa(datetime_obj, lats, lons)\n",
    "%timeit slowspa.slow_spa(datetime_obj, lats, lons)"
   ]
  },
  {
   "cell_type": "code",
   "execution_count": 6,
   "metadata": {},
   "outputs": [
    {
     "name": "stdout",
     "output_type": "stream",
     "text": [
      "887 µs ± 18.8 µs per loop (mean ± std. dev. of 7 runs, 1,000 loops each)\n",
      "1.68 ms ± 18 µs per loop (mean ± std. dev. of 7 runs, 1,000 loops each)\n"
     ]
    }
   ],
   "source": [
    "# 1 year of hourly data\n",
    "datetime_obj = (\n",
    "    np.arange(\"2019-01-01\", \"2020-01-01\", dtype=\"datetime64[h]\")\n",
    "    .astype(\"datetime64[ns]\")\n",
    "    .astype(str)\n",
    "    .tolist()\n",
    ")\n",
    "%timeit fast_spa.julian_ephemeris_millennium(datetime_obj)\n",
    "%timeit slowspa.slow_jme(datetime_obj)"
   ]
  },
  {
   "cell_type": "code",
   "execution_count": 7,
   "metadata": {},
   "outputs": [
    {
     "ename": "AssertionError",
     "evalue": "",
     "output_type": "error",
     "traceback": [
      "\u001b[0;31m---------------------------------------------------------------------------\u001b[0m",
      "\u001b[0;31mAssertionError\u001b[0m                            Traceback (most recent call last)",
      "\u001b[1;32m/home/leaver/fastspa/tests/benchmark.ipynb Cell 7\u001b[0m line \u001b[0;36m4\n\u001b[1;32m      <a href='vscode-notebook-cell://wsl%2Bubuntu-22.04/home/leaver/fastspa/tests/benchmark.ipynb#W3sdnNjb2RlLXJlbW90ZQ%3D%3D?line=0'>1</a>\u001b[0m a \u001b[39m=\u001b[39m fast_spa\u001b[39m.\u001b[39mfast_spa(datetime_obj, lats, lons)\n\u001b[1;32m      <a href='vscode-notebook-cell://wsl%2Bubuntu-22.04/home/leaver/fastspa/tests/benchmark.ipynb#W3sdnNjb2RlLXJlbW90ZQ%3D%3D?line=1'>2</a>\u001b[0m b \u001b[39m=\u001b[39m slowspa\u001b[39m.\u001b[39mslow_spa(datetime_obj, lats, lons)\n\u001b[0;32m----> <a href='vscode-notebook-cell://wsl%2Bubuntu-22.04/home/leaver/fastspa/tests/benchmark.ipynb#W3sdnNjb2RlLXJlbW90ZQ%3D%3D?line=3'>4</a>\u001b[0m \u001b[39massert\u001b[39;00m a\u001b[39m.\u001b[39mshape \u001b[39m==\u001b[39m b\u001b[39m.\u001b[39mshape\n\u001b[1;32m      <a href='vscode-notebook-cell://wsl%2Bubuntu-22.04/home/leaver/fastspa/tests/benchmark.ipynb#W3sdnNjb2RlLXJlbW90ZQ%3D%3D?line=4'>5</a>\u001b[0m \u001b[39massert\u001b[39;00m np\u001b[39m.\u001b[39mmax((\u001b[39mabs\u001b[39m(a[\u001b[39m-\u001b[39m\u001b[39m1\u001b[39m] \u001b[39m-\u001b[39m b[\u001b[39m-\u001b[39m\u001b[39m1\u001b[39m]) \u001b[39m%\u001b[39m \u001b[39m360\u001b[39m) \u001b[39m-\u001b[39m \u001b[39m360\u001b[39m) \u001b[39m<\u001b[39m \u001b[39m1e-6\u001b[39m\n",
      "\u001b[0;31mAssertionError\u001b[0m: "
     ]
    }
   ],
   "source": [
    "a = fast_spa.fast_spa(datetime_obj, lats, lons)\n",
    "b = slowspa.slow_spa(datetime_obj, lats, lons)\n",
    "\n",
    "assert a.shape == b.shape\n",
    "assert np.max((abs(a[-1] - b[-1]) % 360) - 360) < 1e-6\n",
    "\n"
   ]
  }
 ],
 "metadata": {
  "kernelspec": {
   "display_name": ".venv",
   "language": "python",
   "name": "python3"
  },
  "language_info": {
   "codemirror_mode": {
    "name": "ipython",
    "version": 3
   },
   "file_extension": ".py",
   "mimetype": "text/x-python",
   "name": "python",
   "nbconvert_exporter": "python",
   "pygments_lexer": "ipython3",
   "version": "3.10.12"
  }
 },
 "nbformat": 4,
 "nbformat_minor": 2
}
