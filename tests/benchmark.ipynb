{
 "cells": [
  {
   "cell_type": "code",
   "execution_count": 1,
   "metadata": {},
   "outputs": [],
   "source": [
    "import numpy as np\n",
    "import fast_spa\n",
    "import slowspa\n",
    "\n",
    "\n",
    "# 200x200km area\n",
    "lats = np.linspace(30, 31, 100)\n",
    "lons = np.linspace(-80, -79, 100)\n",
    "lats, lons = np.meshgrid(lats, lons)"
   ]
  },
  {
   "cell_type": "code",
   "execution_count": 2,
   "metadata": {},
   "outputs": [
    {
     "name": "stdout",
     "output_type": "stream",
     "text": [
      "24\n",
      "29.1 ms ± 299 µs per loop (mean ± std. dev. of 7 runs, 10 loops each)\n",
      "65 ms ± 498 µs per loop (mean ± std. dev. of 7 runs, 10 loops each)\n"
     ]
    }
   ],
   "source": [
    "datetime_obj = (\n",
    "    np.arange(\"2023-01-01\", \"2023-01-02\", dtype=\"datetime64[h]\")\n",
    "    .astype(\"datetime64[ns]\")\n",
    "    .astype(str)\n",
    "    .tolist()\n",
    ")\n",
    "\n",
    "%timeit fast_spa.fast_spa(datetime_obj, lats, lons)\n",
    "%timeit slowspa.slow_spa(datetime_obj, lats, lons)"
   ]
  },
  {
   "cell_type": "code",
   "execution_count": 3,
   "metadata": {},
   "outputs": [
    {
     "name": "stdout",
     "output_type": "stream",
     "text": [
      "856 µs ± 5.63 µs per loop (mean ± std. dev. of 7 runs, 1,000 loops each)\n",
      "1.66 ms ± 4.87 µs per loop (mean ± std. dev. of 7 runs, 1,000 loops each)\n"
     ]
    }
   ],
   "source": [
    "# 1 year of hourly data\n",
    "datetime_obj = (\n",
    "    np.arange(\"2019-01-01\", \"2020-01-01\", dtype=\"datetime64[h]\")\n",
    "    .astype(\"datetime64[ns]\")\n",
    "    .astype(str)\n",
    "    .tolist()\n",
    ")\n",
    "%timeit fast_spa.julian_ephemeris_millennium(datetime_obj)\n",
    "%timeit slowspa.slow_jme(datetime_obj)"
   ]
  },
  {
   "cell_type": "code",
   "execution_count": 4,
   "metadata": {},
   "outputs": [],
   "source": [
    "a = fast_spa.fast_spa(datetime_obj, lats, lons)\n",
    "b = slowspa.slow_spa(datetime_obj, lats, lons)\n",
    "\n",
    "assert a.shape == b.shape\n",
    "assert np.max((abs(a[-1] - b[-1]) % 360) - 360) < 1e-6\n",
    "\n"
   ]
  }
 ],
 "metadata": {
  "kernelspec": {
   "display_name": ".venv",
   "language": "python",
   "name": "python3"
  },
  "language_info": {
   "codemirror_mode": {
    "name": "ipython",
    "version": 3
   },
   "file_extension": ".py",
   "mimetype": "text/x-python",
   "name": "python",
   "nbconvert_exporter": "python",
   "pygments_lexer": "ipython3",
   "version": "3.10.12"
  }
 },
 "nbformat": 4,
 "nbformat_minor": 2
}
