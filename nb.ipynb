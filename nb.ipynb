{
 "cells": [
  {
   "cell_type": "code",
   "execution_count": 9,
   "metadata": {},
   "outputs": [
    {
     "data": {
      "text/plain": [
       "array([158.0107302 , 158.0107302 , -68.0107302 , -68.0107302 ,\n",
       "       357.97091567])"
      ]
     },
     "execution_count": 9,
     "metadata": {},
     "output_type": "execute_result"
    }
   ],
   "source": [
    "import numpy as np\n",
    "import fastspa\n",
    "import pvlib.spa\n",
    "\n",
    "dt = np.array([\"2022-01-01\"]).astype(\"datetime64[ns]\")\n",
    "ut = dt.astype(\"int64\") / 1e9\n",
    "delta_t = fastspa.pe4dt(dt)\n",
    "\n",
    "pvlib.spa.solar_position(   \n",
    "    ut,\n",
    "    [45.0],\n",
    "    [0.0],\n",
    "    0.0,\n",
    "    1013.25,\n",
    "    temp=12,\n",
    "    delta_t=delta_t,\n",
    "    atmos_refract=0,\n",
    ").flatten()[:-1]"
   ]
  }
 ],
 "metadata": {
  "kernelspec": {
   "display_name": ".venv",
   "language": "python",
   "name": "python3"
  },
  "language_info": {
   "codemirror_mode": {
    "name": "ipython",
    "version": 3
   },
   "file_extension": ".py",
   "mimetype": "text/x-python",
   "name": "python",
   "nbconvert_exporter": "python",
   "pygments_lexer": "ipython3",
   "version": "3.10.12"
  }
 },
 "nbformat": 4,
 "nbformat_minor": 2
}
